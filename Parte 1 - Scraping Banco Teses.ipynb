{
 "cells": [
  {
   "cell_type": "markdown",
   "metadata": {},
   "source": [
    "## 1ª parte: \n",
    "## formulação do banco de dados de teses e dissertações sobre um tema específico"
   ]
  },
  {
   "cell_type": "code",
   "execution_count": 60,
   "metadata": {},
   "outputs": [
    {
     "name": "stdout",
     "output_type": "stream",
     "text": [
      "Total de casos:  20\n",
      "Total de casos:  40\n",
      "Total de casos:  60\n",
      "Total de casos:  80\n",
      "Total de casos:  100\n",
      "Total de casos:  120\n",
      "Total de casos:  140\n",
      "Total de casos:  160\n",
      "Total de casos:  180\n",
      "Total de casos:  200\n",
      "Total de casos:  220\n",
      "Total de casos:  221\n"
     ]
    }
   ],
   "source": [
    "import requests\n",
    "import json\n",
    "import pandas as pd\n",
    "from tqdm.auto import tqdm\n",
    "\n",
    "# Termos da busca\n",
    "\n",
    "url = 'http://catalogodeteses.capes.gov.br/catalogo-teses/rest/busca'\n",
    "\n",
    "headers = {'Content-type': 'application/json','Accept': 'text/plain'}\n",
    "\n",
    "ano = [{\"campo\": \"Ano\", \"valor\": \"2004\"},{\"campo\": \"Ano\", \"valor\": \"2005\"},{\"campo\": \"Ano\", \"valor\": \"2006\"},\n",
    "       {\"campo\": \"Ano\", \"valor\": \"2007\"},{\"campo\": \"Ano\", \"valor\": \"2008\"},{\"campo\": \"Ano\", \"valor\": \"2009\"},\n",
    "       {\"campo\": \"Ano\", \"valor\": \"2010\"},{\"campo\": \"Ano\", \"valor\": \"2011\"},{\"campo\": \"Ano\", \"valor\": \"2012\"},\n",
    "       {\"campo\": \"Ano\", \"valor\": \"2013\"},{\"campo\": \"Ano\", \"valor\": \"2014\"},{\"campo\": \"Ano\", \"valor\": \"2015\"},\n",
    "       {\"campo\": \"Ano\", \"valor\": \"2016\"},{\"campo\": \"Ano\", \"valor\": \"2017\"},{\"campo\": \"Ano\", \"valor\": \"2018\"},\n",
    "       {\"campo\": \"Ano\", \"valor\": \"2019\"},{\"campo\": \"Ano\", \"valor\": \"2020\"},{\"campo\": \"Ano\", \"valor\": \"2021\"}]\n",
    "\n",
    "termos = {'termo': '\"escola sem partido\" \"projeto escola sem partido\" \"PL 7180/2014\" \"PL 7180/14\" \"PL7180/2014\" \"PL7180/14\" \"PL 867/2015\" \"PL 867/15\" \"PL867/15\" \"PL867/2015\" \"ideologia de gênero\" \"gender ideology\" \"doutrinação ideológica\" \"doutrinação\" \"doutrinação marxista\" \"comissão especial escola sem partido\" \"doutrinação esquerdista\"',\n",
    "          'registrosPorPágina': 20, \n",
    "          'filtros': ano}\n",
    "\n",
    "# função que retorna os resultados da busca (método post)\n",
    "\n",
    "def get(pp):\n",
    "    busca = termos.copy()\n",
    "    busca['pagina'] = pp\n",
    "\n",
    "    while True:\n",
    "        r = requests.post(url, headers=headers, data= None, json = busca)\n",
    "        if r.status_code == 200:\n",
    "            return r.json()\n",
    "        else:\n",
    "            continue\n",
    "            \n",
    "# retorna a quantidade de páginas do resultado\n",
    "\n",
    "def pag(r):\n",
    "    return round((r['total'] / r['registrosPorPagina'])+0.5) \n",
    "\n",
    "# resutados por página\n",
    "\n",
    "total = 1\n",
    "first = 1\n",
    "resultado = []\n",
    "\n",
    "while first <= total:\n",
    "    produto = get(first) #pega todos os dados dos trabalhos por página\n",
    "    \n",
    "    if first == 1:\n",
    "        total = pag(produto)\n",
    "\n",
    "    for trabalho in produto['tesesDissertacoes']:  # cria um json com infos limpas de cada item\n",
    "        item = trabalho\n",
    "        resultado.append(item)\n",
    "    \n",
    "    first += 1\n",
    "    print('Total de casos: ', len(resultado))"
   ]
  },
  {
   "cell_type": "code",
   "execution_count": 61,
   "metadata": {},
   "outputs": [
    {
     "data": {
      "text/plain": [
       "{'id': '5303932',\n",
       " 'instituicao': 'UNIVERSIDADE FEDERAL DE GOIÁS',\n",
       " 'nomePrograma': 'Direitos Humanos',\n",
       " 'municipioPrograma': 'Goiânia',\n",
       " 'titulo': 'As identidades de gênero e sexualidade na visão dos parlamentares da Câmara Federal: uma análise do discurso a partir dos projetos \"escola sem partido\"',\n",
       " 'autor': 'ISABELLA BRUNA LEMES PEREIRA',\n",
       " 'dataDefesa': '2017-08-17',\n",
       " 'volumes': '1',\n",
       " 'paginas': '242',\n",
       " 'biblioteca': 'http://repositorio.bc.ufg.br/tede/handle/tede/8065',\n",
       " 'grauAcademico': 'Mestrado',\n",
       " 'link': 'https://sucupira.capes.gov.br/sucupira/public/consultas/coleta/trabalhoConclusao/viewTrabalhoConclusao.jsf?popup=true&id_trabalho=5303932'}"
      ]
     },
     "execution_count": 61,
     "metadata": {},
     "output_type": "execute_result"
    }
   ],
   "source": [
    "#visão do json() de retorno, que descreve o tipo de informação.\n",
    "resultado[0]"
   ]
  },
  {
   "cell_type": "markdown",
   "metadata": {},
   "source": [
    "## Salvar os dados gerais em um dataframe para posterior análise."
   ]
  },
  {
   "cell_type": "code",
   "execution_count": 64,
   "metadata": {},
   "outputs": [],
   "source": [
    "# nome das colunas\n",
    "colunas = ['id',\n",
    " 'instituicao',\n",
    " 'nomePrograma',\n",
    " 'municipioPrograma',\n",
    " 'titulo',\n",
    " 'autor',\n",
    " 'dataDefesa',\n",
    " 'volumes',\n",
    " 'paginas',\n",
    " 'biblioteca',\n",
    " 'grauAcademico',\n",
    " 'link']"
   ]
  },
  {
   "cell_type": "code",
   "execution_count": 65,
   "metadata": {},
   "outputs": [],
   "source": [
    "# cria dataframe\n",
    "dados = pd.DataFrame(resultado, columns=colunas)\n",
    "# salva banco csv \n",
    "resultado = pd.DataFrame(dados)\n",
    "resultado.to_csv('TesesDissertacoes_ESP_Geral.csv')"
   ]
  },
  {
   "cell_type": "markdown",
   "metadata": {},
   "source": [
    "## Importando os dados do dataframe para operações."
   ]
  },
  {
   "cell_type": "code",
   "execution_count": 66,
   "metadata": {},
   "outputs": [],
   "source": [
    "arquivo = (r'TesesDissertacoes_ESP_Geral.csv')\n",
    "suc = pd.read_csv(arquivo ,header=0, sep=',')"
   ]
  },
  {
   "cell_type": "code",
   "execution_count": 67,
   "metadata": {},
   "outputs": [
    {
     "data": {
      "text/plain": [
       "221"
      ]
     },
     "execution_count": 67,
     "metadata": {},
     "output_type": "execute_result"
    }
   ],
   "source": [
    "#Quantos casos existem no banco?\n",
    "len(suc)"
   ]
  },
  {
   "cell_type": "code",
   "execution_count": 68,
   "metadata": {},
   "outputs": [
    {
     "data": {
      "text/html": [
       "<div>\n",
       "<style scoped>\n",
       "    .dataframe tbody tr th:only-of-type {\n",
       "        vertical-align: middle;\n",
       "    }\n",
       "\n",
       "    .dataframe tbody tr th {\n",
       "        vertical-align: top;\n",
       "    }\n",
       "\n",
       "    .dataframe thead th {\n",
       "        text-align: right;\n",
       "    }\n",
       "</style>\n",
       "<table border=\"1\" class=\"dataframe\">\n",
       "  <thead>\n",
       "    <tr style=\"text-align: right;\">\n",
       "      <th></th>\n",
       "      <th>Unnamed: 0</th>\n",
       "      <th>id</th>\n",
       "      <th>instituicao</th>\n",
       "      <th>nomePrograma</th>\n",
       "      <th>municipioPrograma</th>\n",
       "      <th>titulo</th>\n",
       "      <th>autor</th>\n",
       "      <th>dataDefesa</th>\n",
       "      <th>volumes</th>\n",
       "      <th>paginas</th>\n",
       "      <th>biblioteca</th>\n",
       "      <th>grauAcademico</th>\n",
       "      <th>link</th>\n",
       "    </tr>\n",
       "  </thead>\n",
       "  <tbody>\n",
       "    <tr>\n",
       "      <th>0</th>\n",
       "      <td>0</td>\n",
       "      <td>5303932</td>\n",
       "      <td>UNIVERSIDADE FEDERAL DE GOIÁS</td>\n",
       "      <td>Direitos Humanos</td>\n",
       "      <td>Goiânia</td>\n",
       "      <td>As identidades de gênero e sexualidade na visão dos parlamentares da Câmara Federal: uma análise do discurso a partir dos projetos \"escola sem partido\"</td>\n",
       "      <td>ISABELLA BRUNA LEMES PEREIRA</td>\n",
       "      <td>2017-08-17</td>\n",
       "      <td>1</td>\n",
       "      <td>242</td>\n",
       "      <td>http://repositorio.bc.ufg.br/tede/handle/tede/8065</td>\n",
       "      <td>Mestrado</td>\n",
       "      <td>https://sucupira.capes.gov.br/sucupira/public/consultas/coleta/trabalhoConclusao/viewTrabalhoConclusao.jsf?popup=true&amp;id_trabalho=5303932</td>\n",
       "    </tr>\n",
       "    <tr>\n",
       "      <th>1</th>\n",
       "      <td>1</td>\n",
       "      <td>6452576</td>\n",
       "      <td>PONTIFÍCIA UNIVERSIDADE CATÓLICA DO RIO DE JANEIRO</td>\n",
       "      <td>CIÊNCIAS SOCIAIS</td>\n",
       "      <td>Rio de Janeiro</td>\n",
       "      <td>Escola pública sob disputa: moralidade e religião</td>\n",
       "      <td>SARAH LAURINDO MONTEIRO</td>\n",
       "      <td>2018-04-20</td>\n",
       "      <td>1</td>\n",
       "      <td>180</td>\n",
       "      <td>Biblioteca Central da PUC-Rio</td>\n",
       "      <td>Mestrado</td>\n",
       "      <td>https://sucupira.capes.gov.br/sucupira/public/consultas/coleta/trabalhoConclusao/viewTrabalhoConclusao.jsf?popup=true&amp;id_trabalho=6452576</td>\n",
       "    </tr>\n",
       "  </tbody>\n",
       "</table>\n",
       "</div>"
      ],
      "text/plain": [
       "   Unnamed: 0       id                                         instituicao  \\\n",
       "0  0           5303932  UNIVERSIDADE FEDERAL DE GOIÁS                        \n",
       "1  1           6452576  PONTIFÍCIA UNIVERSIDADE CATÓLICA DO RIO DE JANEIRO   \n",
       "\n",
       "       nomePrograma municipioPrograma  \\\n",
       "0  Direitos Humanos  Goiânia            \n",
       "1  CIÊNCIAS SOCIAIS  Rio de Janeiro     \n",
       "\n",
       "                                                                                                                                                    titulo  \\\n",
       "0  As identidades de gênero e sexualidade na visão dos parlamentares da Câmara Federal: uma análise do discurso a partir dos projetos \"escola sem partido\"   \n",
       "1  Escola pública sob disputa: moralidade e religião                                                                                                         \n",
       "\n",
       "                          autor  dataDefesa volumes paginas  \\\n",
       "0  ISABELLA BRUNA LEMES PEREIRA  2017-08-17  1       242      \n",
       "1  SARAH LAURINDO MONTEIRO       2018-04-20  1       180      \n",
       "\n",
       "                                           biblioteca grauAcademico  \\\n",
       "0  http://repositorio.bc.ufg.br/tede/handle/tede/8065  Mestrado       \n",
       "1  Biblioteca Central da PUC-Rio                       Mestrado       \n",
       "\n",
       "                                                                                                                                        link  \n",
       "0  https://sucupira.capes.gov.br/sucupira/public/consultas/coleta/trabalhoConclusao/viewTrabalhoConclusao.jsf?popup=true&id_trabalho=5303932  \n",
       "1  https://sucupira.capes.gov.br/sucupira/public/consultas/coleta/trabalhoConclusao/viewTrabalhoConclusao.jsf?popup=true&id_trabalho=6452576  "
      ]
     },
     "execution_count": 68,
     "metadata": {},
     "output_type": "execute_result"
    }
   ],
   "source": [
    "suc.head(2)"
   ]
  },
  {
   "cell_type": "code",
   "execution_count": 70,
   "metadata": {},
   "outputs": [
    {
     "data": {
      "text/plain": [
       "171"
      ]
     },
     "execution_count": 70,
     "metadata": {},
     "output_type": "execute_result"
    }
   ],
   "source": [
    "#Quantos trabalhos possuem links para o resumo?\n",
    "suc['link'].count()"
   ]
  },
  {
   "cell_type": "code",
   "execution_count": 71,
   "metadata": {},
   "outputs": [
    {
     "data": {
      "text/plain": [
       "Unnamed: 0           0 \n",
       "id                   0 \n",
       "instituicao          0 \n",
       "nomePrograma         0 \n",
       "municipioPrograma    0 \n",
       "titulo               0 \n",
       "autor                0 \n",
       "dataDefesa           0 \n",
       "volumes              0 \n",
       "paginas              0 \n",
       "biblioteca           0 \n",
       "grauAcademico        0 \n",
       "link                 50\n",
       "dtype: int64"
      ]
     },
     "execution_count": 71,
     "metadata": {},
     "output_type": "execute_result"
    }
   ],
   "source": [
    "# Como uma parte das pesquisas são anteriores a criação da plataforma, a coluna 'link' descreve os casos faltantes.\n",
    "suc.isnull().sum()"
   ]
  },
  {
   "cell_type": "code",
   "execution_count": 72,
   "metadata": {},
   "outputs": [],
   "source": [
    "#cria dataframe com os links para extrair o resumo que não retornou com json\n",
    "links = suc['link']"
   ]
  },
  {
   "cell_type": "code",
   "execution_count": 76,
   "metadata": {},
   "outputs": [
    {
     "name": "stderr",
     "output_type": "stream",
     "text": [
      "<ipython-input-76-744e54fd7b6f>:2: FutureWarning: Passing a negative integer is deprecated in version 1.0 and will not be supported in future version. Instead, use None to not limit the column width.\n",
      "  pd.set_option('display.max_colwidth', -1)\n"
     ]
    }
   ],
   "source": [
    "#Segunda precisa mais formas. Transforma o resultado em um objeto de série Pandas.\n",
    "pd.set_option('display.max_colwidth', -1)\n",
    "import numpy as np\n",
    "links2 = links.dropna(axis=0, how='all')\n"
   ]
  },
  {
   "cell_type": "code",
   "execution_count": 78,
   "metadata": {},
   "outputs": [],
   "source": [
    "## Salvar os dados dos links\n",
    "links2.to_csv('links_TesesCapes_ESP.csv', encoding='CP1252')"
   ]
  },
  {
   "cell_type": "code",
   "execution_count": null,
   "metadata": {},
   "outputs": [],
   "source": []
  }
 ],
 "metadata": {
  "kernelspec": {
   "display_name": "Python 3",
   "language": "python",
   "name": "python3"
  },
  "language_info": {
   "codemirror_mode": {
    "name": "ipython",
    "version": 3
   },
   "file_extension": ".py",
   "mimetype": "text/x-python",
   "name": "python",
   "nbconvert_exporter": "python",
   "pygments_lexer": "ipython3",
   "version": "3.8.5"
  }
 },
 "nbformat": 4,
 "nbformat_minor": 2
}
