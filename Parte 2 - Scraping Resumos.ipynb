{
 "cells": [
  {
   "cell_type": "markdown",
   "metadata": {},
   "source": [
    "## 2ª Parte\n",
    "\n",
    "## Raspar Resumos"
   ]
  },
  {
   "cell_type": "code",
   "execution_count": 199,
   "metadata": {},
   "outputs": [],
   "source": [
    "import requests\n",
    "import csv\n",
    "import sys\n",
    "from bs4 import BeautifulSoup as bs\n",
    "from requests import get\n",
    "import pandas as pd\n",
    "import time\n",
    "from time import sleep\n",
    "from lxml import html\n",
    "from tqdm import tqdm_notebook\n",
    "from tqdm.auto import tqdm\n",
    "import matplotlib.pyplot as plt\n",
    "import numpy as np\n",
    "import re\n",
    "import datetime\n",
    "from datetime import datetime\n",
    "import json\n",
    "from pandas.io.json import json_normalize\n",
    "\n",
    "from selenium import webdriver \n",
    "from selenium.webdriver.common.keys import Keys\n",
    "from selenium.webdriver.support.ui import WebDriverWait\n",
    "import time \n",
    "from selenium.webdriver.chrome.options import Options\n",
    "from fake_useragent import UserAgent\n",
    "from requests.exceptions import Timeout"
   ]
  },
  {
   "cell_type": "code",
   "execution_count": 200,
   "metadata": {},
   "outputs": [],
   "source": [
    "# Importa o arquivo de links\n",
    "arquivo = (r'links_TesesCapes_ESP.csv')\n",
    "lista_links = pd.read_csv(arquivo,header=0)"
   ]
  },
  {
   "cell_type": "code",
   "execution_count": 201,
   "metadata": {},
   "outputs": [
    {
     "data": {
      "text/plain": [
       "171"
      ]
     },
     "execution_count": 201,
     "metadata": {},
     "output_type": "execute_result"
    }
   ],
   "source": [
    "#total de links\n",
    "len(lista_links['link'])"
   ]
  },
  {
   "cell_type": "code",
   "execution_count": 202,
   "metadata": {},
   "outputs": [
    {
     "data": {
      "application/vnd.jupyter.widget-view+json": {
       "model_id": "504fc66f567b402394a75fde9fda615b",
       "version_major": 2,
       "version_minor": 0
      },
      "text/plain": [
       "HBox(children=(HTML(value=''), FloatProgress(value=0.0, max=171.0), HTML(value='')))"
      ]
     },
     "metadata": {},
     "output_type": "display_data"
    },
    {
     "name": "stdout",
     "output_type": "stream",
     "text": [
      "\n"
     ]
    }
   ],
   "source": [
    "headers={'User-Agent': 'Mozilla/5.0 (Windows NT 10.0; WOW64) AppleWebKit/537.36 (KHTML, like Gecko) Chrome/90.0.4430.93 Safari/537.36',}\n",
    "\n",
    "listagem = []# lista de resultados\n",
    "er = [] #links com erro\n",
    "\n",
    "\n",
    "for i in tqdm(lista_links['link']):\n",
    "    r = requests.get(i, headers=headers,timeout=3)\n",
    "    tese = bs(r.text, 'lxml')\n",
    "    \n",
    "    try:\n",
    "        #Dados do Trabalho\n",
    "        ies = tese.find(id=\"ies\").get_text().title()\n",
    "        programa = tese.find(id=\"programa\").get_text().title().split('(')[0].str.lower()\n",
    "        codArea = tese.find(id=\"programa\").get_text().title().split('(')[1].replace(')','')\n",
    "        titulo = tese.find(id=\"nome\").get_text().title()\n",
    "        autor = tese.find(id=\"autor\").get_text().title()\n",
    "        tipotrabalho = tese.find(id=\"tipo\").get_text().title()\n",
    "        datadefesa = tese.find(id=\"data\").get_text().strip()\n",
    "        resumo = \"\".join(tese.find(id=\"resumo\").get_text()).replace('\\r', '').replace('\\n', ' ')\n",
    "        keywords = tese.find(id=\"palavras\").get_text().split()\n",
    "        linkTrabalho = i\n",
    "        listagem.append([ies,programa, codArea, titulo, autor, tipotrabalho, datadefesa, resumo, keywords, linkTrabalho])\n",
    "        \n",
    "    except Exception:\n",
    "        error = i\n",
    "        er.append(error)\n",
    "        pass\n",
    "        \n",
    "fim = pd.DataFrame(listagem,columns =['IES','Programa','Cod_Area','Titulo','Autor','Tipo', 'Defesa', 'Resumo', 'Keywords', 'link_trabalho'])\n",
    "fim.to_csv('Resumos_ESP' + '.csv')"
   ]
  }
 ],
 "metadata": {
  "kernelspec": {
   "display_name": "Python 3",
   "language": "python",
   "name": "python3"
  },
  "language_info": {
   "codemirror_mode": {
    "name": "ipython",
    "version": 3
   },
   "file_extension": ".py",
   "mimetype": "text/x-python",
   "name": "python",
   "nbconvert_exporter": "python",
   "pygments_lexer": "ipython3",
   "version": "3.8.5"
  }
 },
 "nbformat": 4,
 "nbformat_minor": 4
}
